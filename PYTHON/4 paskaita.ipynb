{
 "cells": [
  {
   "cell_type": "code",
   "execution_count": null,
   "id": "b8e2ef5d",
   "metadata": {
    "pycharm": {
     "name": "#%%\n"
    }
   },
   "outputs": [],
   "source": [
    "Mes praėjome:\n",
    "    - Duomentų tipus: int, float, str, bool, list, dict {keyword: value}, set {}, tuple ()\n",
    "    - salygas if\n",
    "    - ciklą while\n",
    "    - ciklą for"
   ]
  },
  {
   "cell_type": "markdown",
   "id": "4377e591",
   "metadata": {
    "pycharm": {
     "name": "#%% md\n"
    }
   },
   "source": [
    "all()/any()/enumerate()/len()/max()/min()/range()/sorted()/sum()"
   ]
  },
  {
   "cell_type": "code",
   "execution_count": null,
   "id": "f3109392",
   "metadata": {
    "pycharm": {
     "name": "#%%\n"
    }
   },
   "outputs": [],
   "source": [
    "numbers_list = [a for a in range(3, 10)]\n",
    "\n",
    "print(numbers_list)"
   ]
  },
  {
   "cell_type": "code",
   "execution_count": null,
   "id": "ff560618",
   "metadata": {
    "pycharm": {
     "name": "#%%\n"
    }
   },
   "outputs": [],
   "source": [
    "numbers_list = [a for a in range(10)]\n",
    "\n",
    "all(numbers_list)"
   ]
  },
  {
   "cell_type": "code",
   "execution_count": null,
   "id": "2885f895",
   "metadata": {
    "pycharm": {
     "name": "#%%\n"
    }
   },
   "outputs": [],
   "source": [
    "numbers_list = [a for a in range(1)]\n",
    "\n",
    "print(numbers_list)\n",
    "print(any(numbers_list))"
   ]
  },
  {
   "cell_type": "code",
   "execution_count": null,
   "id": "a4785601",
   "metadata": {
    "pycharm": {
     "name": "#%%\n"
    }
   },
   "outputs": [],
   "source": [
    "{\n",
    "    1: 'Dalinti', \n",
    "    2: 'Dauginti'\n",
    "}\n",
    "\n",
    "for number, value in enumerate([10, 22, 33]):\n",
    "    print(number, value)"
   ]
  },
  {
   "cell_type": "code",
   "execution_count": null,
   "id": "c3008d72",
   "metadata": {
    "pycharm": {
     "name": "#%%\n"
    }
   },
   "outputs": [],
   "source": [
    "print(max([3, 4, 5, 6, 7, 8, 9]))\n",
    "print(min([3, 4, 5, 6, 7, 8, 9]))"
   ]
  },
  {
   "cell_type": "code",
   "execution_count": null,
   "id": "7b7bcebb",
   "metadata": {
    "pycharm": {
     "name": "#%%\n"
    }
   },
   "outputs": [],
   "source": [
    "masyvas = [5, 3, 4]\n",
    "\n",
    "print(sorted(masyvas))\n",
    "\n",
    "print(masyvas)\n",
    "masyvas.sort()\n",
    "print(masyvas)"
   ]
  },
  {
   "cell_type": "code",
   "execution_count": null,
   "id": "989a7514",
   "metadata": {
    "pycharm": {
     "name": "#%%\n"
    }
   },
   "outputs": [],
   "source": [
    "masyvas = [5, 3, 4]\n",
    "\n",
    "print(sum(masyvas))"
   ]
  },
  {
   "cell_type": "markdown",
   "id": "b4247f53",
   "metadata": {
    "pycharm": {
     "name": "#%% md\n"
    }
   },
   "source": [
    "DRY - don't repeat yourself"
   ]
  },
  {
   "cell_type": "markdown",
   "id": "cfb4c2a3",
   "metadata": {
    "pycharm": {
     "name": "#%% md\n"
    }
   },
   "source": [
    "value = 15\n",
    "\n",
    "if (value % 3 == 0) and (value % 5 == 0):\n",
    "    print(\"dalyba\")"
   ]
  },
  {
   "cell_type": "code",
   "execution_count": null,
   "id": "6e0ae0b0",
   "metadata": {
    "pycharm": {
     "name": "#%%\n"
    }
   },
   "outputs": [],
   "source": [
    "value = 9\n",
    "\n",
    "if (value % 3 == 0) and (value % 5 == 0): \n",
    "    result = \"3 ir 5\"\n",
    "elif value % 5 == 0:\n",
    "    result = \"5\"\n",
    "elif value % 3 == 0:\n",
    "    result = \"3\"\n",
    "    \n",
    "print(f'Result is {result}')"
   ]
  },
  {
   "cell_type": "code",
   "execution_count": 3,
   "id": "459b1ec2",
   "metadata": {
    "pycharm": {
     "name": "#%%\n"
    }
   },
   "outputs": [
    {
     "name": "stdout",
     "output_type": "stream",
     "text": [
      "a\n"
     ]
    }
   ],
   "source": [
    "if 10 == int('10'):\n",
    "    result = 'a'\n",
    "elif 'bag' < 'bapple':\n",
    "    result = 'b'\n",
    "else:\n",
    "    result = 'c'\n",
    "    \n",
    "print(result)"
   ]
  },
  {
   "cell_type": "code",
   "execution_count": 8,
   "id": "c07f6ac4",
   "metadata": {
    "pycharm": {
     "name": "#%%\n"
    }
   },
   "outputs": [
    {
     "name": "stdout",
     "output_type": "stream",
     "text": [
      "13\n"
     ]
    }
   ],
   "source": [
    "sarasas = [5, 8, 'Lietuva']\n",
    "\n",
    "\n",
    "suma = 0\n",
    "\n",
    "for x in sarasas:\n",
    "    if type(x) is int:\n",
    "        suma += x\n",
    "        \n",
    "print(suma)"
   ]
  },
  {
   "cell_type": "code",
   "execution_count": 9,
   "id": "a57c1195",
   "metadata": {
    "pycharm": {
     "name": "#%%\n"
    }
   },
   "outputs": [
    {
     "name": "stdout",
     "output_type": "stream",
     "text": [
      "13\n"
     ]
    }
   ],
   "source": [
    "sarasas = [5, 8, 'Lietuva']\n",
    "\n",
    "\n",
    "suma = 0\n",
    "\n",
    "for x in sarasas:\n",
    "    if isinstance(x, int):\n",
    "        suma += x\n",
    "        \n",
    "print(suma)"
   ]
  },
  {
   "cell_type": "markdown",
   "id": "2d32f1f4",
   "metadata": {
    "pycharm": {
     "name": "#%% md\n"
    }
   },
   "source": [
    "Sugeneruoti random pagalba 100 skaičiaus listą intervale 0-100, jį atspausdinti, tada patikrinti ar jame yra 0\n",
    "\n",
    "Naudoti For ciklą, random biblioteką, if sąlyga."
   ]
  },
  {
   "cell_type": "code",
   "execution_count": 25,
   "id": "ade00011",
   "metadata": {
    "pycharm": {
     "name": "#%%\n"
    }
   },
   "outputs": [
    {
     "name": "stdout",
     "output_type": "stream",
     "text": [
      "57\n"
     ]
    }
   ],
   "source": [
    "import random\n",
    "\n",
    "print(random.randint(0, 100))"
   ]
  },
  {
   "cell_type": "code",
   "execution_count": 26,
   "id": "58d5474d",
   "metadata": {
    "pycharm": {
     "name": "#%%\n"
    }
   },
   "outputs": [
    {
     "name": "stdout",
     "output_type": "stream",
     "text": [
      "0\n",
      "1\n",
      "2\n",
      "3\n",
      "4\n",
      "5\n",
      "6\n",
      "7\n",
      "8\n",
      "9\n",
      "10\n",
      "11\n",
      "12\n",
      "13\n",
      "14\n",
      "15\n",
      "16\n",
      "17\n",
      "18\n",
      "19\n",
      "20\n",
      "21\n",
      "22\n",
      "23\n",
      "24\n",
      "25\n",
      "26\n",
      "27\n",
      "28\n",
      "29\n",
      "30\n",
      "31\n",
      "32\n",
      "33\n",
      "34\n",
      "35\n",
      "36\n",
      "37\n",
      "38\n",
      "39\n",
      "40\n",
      "41\n",
      "42\n",
      "43\n",
      "44\n",
      "45\n",
      "46\n",
      "47\n",
      "48\n",
      "49\n",
      "50\n",
      "51\n",
      "52\n",
      "53\n",
      "54\n",
      "55\n",
      "56\n",
      "57\n",
      "58\n",
      "59\n",
      "60\n",
      "61\n",
      "62\n",
      "63\n",
      "64\n",
      "65\n",
      "66\n",
      "67\n",
      "68\n",
      "69\n",
      "70\n",
      "71\n",
      "72\n",
      "73\n",
      "74\n",
      "75\n",
      "76\n",
      "77\n",
      "78\n",
      "79\n",
      "80\n",
      "81\n",
      "82\n",
      "83\n",
      "84\n",
      "85\n",
      "86\n",
      "87\n",
      "88\n",
      "89\n",
      "90\n",
      "91\n",
      "92\n",
      "93\n",
      "94\n",
      "95\n",
      "96\n",
      "97\n",
      "98\n",
      "99\n"
     ]
    }
   ],
   "source": [
    "for i in range(100):\n",
    "    print(i)"
   ]
  },
  {
   "cell_type": "markdown",
   "id": "4d058d2f",
   "metadata": {
    "pycharm": {
     "name": "#%% md\n"
    }
   },
   "source": [
    "Yra masyvas:\n",
    "data = ['Mes mokinames programuoti', [2, 2, 3], (True, True, True), (True, False, True), {'one':1, 'two':2, 'three':3, 'four': 4}]\n",
    "\n",
    "Jei string tipas - suskaičiuoti kiek raidžių iš visu ir kiek yra unikalių raidių. Išvesti sakinyje;\n",
    "Jei listas - suskaičiuoti kiek narių, sudėti ir sudauginti visus.\n",
    "Jei tuple - patikrinti ar visos reikšmės yra True\n",
    "Jei dict - išspausdinti du listus, viename liste raktai (keywords), kitame - reikšmės (values)"
   ]
  },
  {
   "cell_type": "code",
   "execution_count": 28,
   "id": "8393c9e1",
   "metadata": {
    "pycharm": {
     "name": "#%%\n"
    }
   },
   "outputs": [
    {
     "name": "stdout",
     "output_type": "stream",
     "text": [
      "False\n"
     ]
    }
   ],
   "source": [
    "masyvas = (0, 1, 2)\n",
    "\n",
    "print(isinstance(masyvas, list))"
   ]
  },
  {
   "cell_type": "markdown",
   "id": "8d5527bf",
   "metadata": {
    "pycharm": {
     "name": "#%% md\n"
    }
   },
   "source": [
    "Parašyti programą, kuri:\n",
    "Leistų vartotojui įvesti skaičių.\n",
    "Jei įvestas skaičius yra teigiamas, paprašyti įvesti dar vieną skaičių\n",
    "Jei įvestas skaičius neigiamas, nutraukti programą ir atspausdinti visų įvestų teigiamų skaičių sumą\n",
    "Patarimas: Naudoti ciklą while, sąlygą if, break\n"
   ]
  },
  {
   "cell_type": "code",
   "execution_count": null,
   "id": "ba895567",
   "metadata": {
    "pycharm": {
     "name": "#%%\n"
    }
   },
   "outputs": [],
   "source": [
    "Sukurti programą, kuri:\n",
    "Leistų vartotojui įvesti 5 žodžius\n",
    "Pridėtų įvestus žodžius į sąrašą\n",
    "Atspausdintų kiekvieną žodį, jo ilgį ir eilės numerį sąraše (nuo 1)\n",
    "Sudėtingiau: kad programa leistų įvesti norimą žodžių kiekį\n",
    "Patarimas: Naudoti sąrašą (list), ciklą for, funkcijas len ir index\n"
   ]
  },
  {
   "cell_type": "code",
   "execution_count": null,
   "id": "7b6a0a00",
   "metadata": {
    "pycharm": {
     "name": "#%%\n"
    }
   },
   "outputs": [],
   "source": [
    "Sukurti programą, kuri:\n",
    "Sugeneruotų tris atsitiktinius skaičius nuo 1 iki 6\n",
    "Jei vienas iš šių skaičių yra 5, atspausdinti „Pralaimėjai...“\n",
    "Kitu atveju atspausdinti „Laimėjai!“\n",
    "Patarimas: Naudoti while ciklą, funkciją random.randint (import random), else, break\n"
   ]
  },
  {
   "cell_type": "code",
   "execution_count": null,
   "id": "a4d59a88",
   "metadata": {
    "pycharm": {
     "name": "#%%\n"
    }
   },
   "outputs": [],
   "source": [
    "Sukurti programą, kuri:\n",
    "Leistų vartotojui įvesti metus\n",
    "Atspausdintų „Keliamieji metai“, jei taip yra\n",
    "Atspausdintų „Nekeliamieji metai“, jei taip yra\n",
    "\n",
    "Keliamieji metai yra kas 4 metus, išskyrus paskutinius amžiaus metus, kurie keliamieji yra tik kas 400 metų\n"
   ]
  },
  {
   "cell_type": "markdown",
   "id": "daba483e",
   "metadata": {
    "pycharm": {
     "name": "#%% md\n"
    }
   },
   "source": [
    "Bibliotekos: kaip importuoti"
   ]
  }
 ],
 "metadata": {
  "kernelspec": {
   "display_name": "Python 3 (ipykernel)",
   "language": "python",
   "name": "python3"
  },
  "language_info": {
   "codemirror_mode": {
    "name": "ipython",
    "version": 3
   },
   "file_extension": ".py",
   "mimetype": "text/x-python",
   "name": "python",
   "nbconvert_exporter": "python",
   "pygments_lexer": "ipython3",
   "version": "3.9.13"
  }
 },
 "nbformat": 4,
 "nbformat_minor": 5
}